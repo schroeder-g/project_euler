{
 "cells": [
  {
   "cell_type": "markdown",
   "id": "69fb84cc-aa64-4808-a151-7b9d72e10267",
   "metadata": {},
   "source": [
    "Timing is everything. Let's look at the performance of identical operations implemented with vanilla `Python`, `numPy`, and `numexpr`:"
   ]
  },
  {
   "cell_type": "code",
   "execution_count": 6,
   "id": "3980f009-d6ec-462a-b4b3-30a1e6718623",
   "metadata": {},
   "outputs": [],
   "source": [
    "from math import *\n",
    "\n",
    "\n",
    "loops = 25000000\n",
    "a = range(1, loops)\n",
    "def f(x):\n",
    "    return 3 * log(x) + cos(x) ** 2"
   ]
  },
  {
   "cell_type": "code",
   "execution_count": 7,
   "id": "428d698b-5ae1-4593-a4db-bf7879d92a96",
   "metadata": {},
   "outputs": [
    {
     "name": "stdout",
     "output_type": "stream",
     "text": [
      "8.15 s ± 129 ms per loop (mean ± std. dev. of 7 runs, 1 loop each)\n"
     ]
    }
   ],
   "source": [
    "%timeit r = [f(x) for x in a]"
   ]
  },
  {
   "cell_type": "markdown",
   "id": "86b9492c-dfe0-4a18-928f-0de147be1884",
   "metadata": {},
   "source": [
    "numpy can perform the same operation in a twentieth of the time:"
   ]
  },
  {
   "cell_type": "code",
   "execution_count": 8,
   "id": "0feb5469-dbae-4888-abd8-b14a683827d2",
   "metadata": {},
   "outputs": [
    {
     "name": "stdout",
     "output_type": "stream",
     "text": [
      "478 ms ± 6.62 ms per loop (mean ± std. dev. of 7 runs, 1 loop each)\n"
     ]
    }
   ],
   "source": [
    "import numpy as np\n",
    "\n",
    "a = np.arange(1, loops)\n",
    "\n",
    "%timeit r = 3 * np.log(a) + np.cos(a) ** 2"
   ]
  },
  {
   "cell_type": "markdown",
   "id": "232674be-8684-4f8c-adf4-892236969a22",
   "metadata": {},
   "source": [
    "\n",
    "\n",
    "`numexpr` is a compiled version of numpy, enabling it to beat performance via e.g. avoiding in-memory array creation. \n",
    "\n",
    "Furthermore, `numexpr` has built-in parallelization to further cut down on runtimes."
   ]
  },
  {
   "cell_type": "code",
   "execution_count": 11,
   "id": "e352f592-d5c6-42f7-9519-c736a26e18e0",
   "metadata": {},
   "outputs": [
    {
     "name": "stdout",
     "output_type": "stream",
     "text": [
      "136 ms ± 2.85 ms per loop (mean ± std. dev. of 7 runs, 10 loops each)\n"
     ]
    }
   ],
   "source": [
    "import numexpr as ne\n",
    "\n",
    "ne.set_num_threads(4) # Parallelize 4-fold\n",
    "f = \"3 * log(a) + cos(a) ** 2\" # numexpr evaluates functions as a string\n",
    "\n",
    "%timeit r = ne.evaluate(f)"
   ]
  }
 ],
 "metadata": {
  "kernelspec": {
   "display_name": "Python 3 (ipykernel)",
   "language": "python",
   "name": "python3"
  },
  "language_info": {
   "codemirror_mode": {
    "name": "ipython",
    "version": 3
   },
   "file_extension": ".py",
   "mimetype": "text/x-python",
   "name": "python",
   "nbconvert_exporter": "python",
   "pygments_lexer": "ipython3",
   "version": "3.9.6"
  }
 },
 "nbformat": 4,
 "nbformat_minor": 5
}
