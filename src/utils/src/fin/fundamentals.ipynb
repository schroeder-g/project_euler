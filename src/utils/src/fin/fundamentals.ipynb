{
 "cells": [
  {
   "cell_type": "markdown",
   "id": "8556e063-f696-4440-8e8d-cb971bb8835d",
   "metadata": {},
   "source": [
    "<h1>Essential Concepts of Quantitative Finance</h1>\n",
    "<i>As denoted in chapter 1 of A Gentle Introduction to Financial Theory With Python</i>\n",
    "\n",
    "Note that the following are all examples of a \"Two-State Economy\", meaning that the uncertainty of some future\n",
    "\n",
    "<h3><b>Terminology & Definitions</b></h3>"
   ]
  },
  {
   "cell_type": "markdown",
   "id": "116dc04a",
   "metadata": {},
   "source": [
    "**Real Assets** - Things that are available for trade or purchase.\n",
    "\n",
    "**Agents** - The members of an economy that perform trades, produce real assets, and consume them. An agent can be an individual or an institution.\n",
    "\n",
    "**Time** - Economic activity takes place in <u>discrete points in time</u>. E.g. t $\\in$ *0, 1, 2,... n*. The units of time are dependent on context. A *static economy* consists of two discrete points in time.\n",
    "\n",
    "**Money** - Available in unlimited supply and infinitely divisible. Money is the *numeraire* of an economy, in that 1 unit of money is normalized to 1. The prices of all goods are expressed on that currency.\n",
    "\n",
    "**Cash Flow** - The confluence of time and money. Investments are considered *cash outflows* while returns or paybacks are *inflows*. To indicate the points in time when cash flows happen, a time index is used: \n",
    "</br>&nbsp;&nbsp;&nbsp;&nbsp;&nbsp;&nbsp;&nbsp;&nbsp;&nbsp;&nbsp;&nbsp;&nbsp;&nbsp;&nbsp;&nbsp;&nbsp;&nbsp;&nbsp;&nbsp;&nbsp;&nbsp;\n",
    "in the example, $C_{t=0} = -9.5$ and $C_{t=1} = 11.75$, or for short, $C_{t0} = -9.5$ and $C_{t1} = 11.75$. Cash flow series are represented by *tuples* and *lists*, like $(c_1, c_2)$.\n",
    "\n",
    "**Return** - The return of an investment or project is the sum of all cash flows, $R = C_0 + C_1 + ... C_n$. The *Rate of Return* Is the return divided by cash outflows, $r = \\frac{R}{|C_0|}$.\n",
    "\n",
    "**Interest** - Earned on currency units or paid for borrowed money. The *price* paid to other agents for holding their capital. An *Interest Rate* is the return expected after 1 year of lending that money, $i = \\frac{I}{|C_0|}$.\n",
    "\n",
    "**Present Value (D)** - Having options for lending or depositing money leads to *opportunity costs* for investment in particular projects. To appropriately compare cash flows in one year with those of today, \n",
    "</br>&nbsp;&nbsp;&nbsp;&nbsp;&nbsp;&nbsp;&nbsp;&nbsp;&nbsp;&nbsp;&nbsp;&nbsp;&nbsp;&nbsp;&nbsp;&nbsp;&nbsp;&nbsp;&nbsp;&nbsp;&nbsp;&nbsp;&nbsp;&nbsp;&nbsp;&nbsp;&nbsp;&nbsp;&nbsp;&nbsp;\n",
    "the present value needs to be calculated. This is accomplished by *discounting* using the fixed interest rate in the economy. Discounting can be modeled by function D:\n",
    "$C_0 =  D(C_1) = \\frac{C_1}{1 + i}$"
   ]
  },
  {
   "cell_type": "code",
   "execution_count": 5,
   "id": "3efe591b",
   "metadata": {},
   "outputs": [
    {
     "data": {
      "text/plain": [
       "10.0"
      ]
     },
     "execution_count": 5,
     "metadata": {},
     "output_type": "execute_result"
    }
   ],
   "source": [
    "i = .1 # Interest rate\n",
    "\n",
    "def D(c1):\n",
    "    return c1 / (i + 1)\n",
    "\n",
    "D(11)"
   ]
  },
  {
   "cell_type": "markdown",
   "id": "17754dc5",
   "metadata": {},
   "source": [
    "**Net Present Value (NPV)** - The sum of cash outflow today and the present value of the cash inflow in one year. A key determinant in whether an agent should invest in a project. \n",
    "$NPV(C) = C_0 + D(C_1)$ If the result is positive, this is more attractive than just depositing holdings into a bank. "
   ]
  },
  {
   "cell_type": "code",
   "execution_count": 3,
   "id": "3c408df4",
   "metadata": {},
   "outputs": [
    {
     "name": "stdout",
     "output_type": "stream",
     "text": [
      "0.4091\n"
     ]
    },
    {
     "data": {
      "text/plain": [
       "-0.5"
      ]
     },
     "execution_count": 3,
     "metadata": {},
     "output_type": "execute_result"
    }
   ],
   "source": [
    "def NPV(c):\n",
    "    return round(c[0] + D(c[1]), 4)\n",
    "\n",
    "print(NPV((-10.5, 12,1)))\n",
    "NPV((-10.5, 11))"
   ]
  },
  {
   "cell_type": "markdown",
   "id": "ad9987b3",
   "metadata": {},
   "source": [
    "**Uncertainty** - Cash inflows are as a rule uncertain, due to the influence of extraneous factors (e.g. weather, technological advancement). *states* of the economy in one year are comprised of all pertinent factors. In one given year, you could conceive of two different economic states; *up* and *down*. In this view, cashflows in that year are vectorized, like $c_1 \\in \\mathbb{R}^2$, comprised of two different values; $c^u_1,c^d_1 \\in \\mathbb{R}$, which represent the relevant cash flows per state of the economy. This can be represented by a *column vector*: \n",
    "</br>\n",
    "</br>\n",
    "$c_1 = \n",
    "         \\begin{pmatrix}\n",
    "           c^u_1 \\\\           \n",
    "            c^d_1          \n",
    "    \\end{pmatrix}\n",
    "$\n",
    "</br>\n",
    "</br>\n",
    "Vectors carry some important operations, including *scalar multiplication*, *scalar addition*, and *linear combinations*. Here's an example of a dot product (matrix multiplication):\n",
    "</br>\n",
    "</br>\n",
    "$\\alpha \\cdot c_1 + B = \\alpha \\cdot \n",
    "    \\begin{pmatrix}\n",
    "           c^u_1 \\\\           \n",
    "            c^d_1          \n",
    "    \\end{pmatrix}\n",
    "    =     \n",
    "    \\begin{pmatrix}\n",
    "           \\alpha \\cdot c^u_1 + B \\\\           \n",
    "            \\alpha \\cdot c^d_1 + B          \n",
    "    \\end{pmatrix}\n",
    "$\n",
    "</br>\n",
    "</br>\n",
    "And here's a *linear combination*:\n",
    "</br>\n",
    "</br>\n",
    "$\\alpha \\cdot c_1 + B \\cdot d_1 = \\alpha \\cdot \n",
    "    \\begin{pmatrix}\n",
    "           c^u_1 \\\\           \n",
    "            c^d_1          \n",
    "    \\end{pmatrix}\n",
    "    =     \n",
    "    \\begin{pmatrix}\n",
    "           \\alpha \\cdot c^u_1 + B \\cdot c^u_1 \\\\           \n",
    "            \\alpha \\cdot c^d_1 + B  \\cdot c^d_1         \n",
    "    \\end{pmatrix}\n",
    "$\n",
    "</br>\n",
    "</br>\n",
    "Consider the case of an investment project with $c_0 = -10$ and $c_1 = (20, 5)^T$, where T stands for the transposition of the vector $c_1$, that is, rotated from a row vector into a column: "
   ]
  },
  {
   "cell_type": "code",
   "execution_count": 2,
   "id": "d3004e89-3c10-4539-82dd-ea3a993826d0",
   "metadata": {},
   "outputs": [
    {
     "name": "stdout",
     "output_type": "stream",
     "text": [
      "Transformation:  [20  5] * 1.5 + 2 =  [32.   9.5]\n",
      "Combination:  [20  5] + 1.5 * [10, 4] =  [35. 11.]\n"
     ]
    }
   ],
   "source": [
    "import numpy as np\n",
    "\n",
    "c0 = -10  # State at present (10 unit outflow)\n",
    "c1 = np.array((20, 5)) # (inflow of 20 in up state, inflow of 5 in down)\n",
    "\n",
    "c = (c0, c1) # Combines initial state with uncertain states in one year\n",
    "\n",
    "print(\"Transformation: \", c1, \"* 1.5 + 2 = \", c1 * 1.5 + 2)  # A linear transformation of inflow vector by scalar multiplication. (broadcasting)\n",
    "\n",
    "print(\"Combination: \", c1, \"+ 1.5 * [10, 4] = \", c1 + 1.5 * np.array([10, 4])) # A linear combination of two arrays"
   ]
  },
  {
   "cell_type": "markdown",
   "id": "fff1100d",
   "metadata": {},
   "source": [
    "**Risk** - The *frequentist* view of risk is that probabilities for a given state to arise are calculated based on the frequency of their observation divided by the total number of experiments run; $p = \\frac{occurences}{experiments}$. In modelling contexts, probabilities for all possible states are given *a priori*. \n",
    "\n",
    "**Probability Measure** - A function which can be applied to all events in the event space to determine the likelihood of their comparative occurence. The [countable additivity](https://www.statisticshowto.com/countable-additivity/) of all event probabilities must equal 1. \n",
    "</br> Formally defined, $P: \\mathcal{p}(\\{\\textit{u}, \\textit{d}\\}) \\rightarrow \\mathbb{R}_{1 \\geq 0}$, maps all elements of the power set of $\\{\\textit{u}, \\textit{d}\\}$ $-$ with \n",
    "$\\mathcal{p}(\\{\\textit{u}, \\textit{d}\\}) = \\{\\phi, \\{\\textit{u}\\}, \\{\\textit{d}\\}, \\{\\textit{u}, \\textit{d}\\} \\}$ $-$ to the unit interval, that is, $[0,1]$. \n",
    "\n",
    "The set $\\{\\textit{u}, \\textit{d}\\}$ in this context is called the *state space*, which is symbolized by $\\Omega$, while the set $\\{\\Omega, \\mathcal{P}(\\Omega), P\\}$ is called the [*probability space* or probability triple](https://en.wikipedia.org/wiki/Probability_space).\n",
    "\n",
    "The probability function $P$ which represents the probability measure must satisfy the following criteria:\n",
    "</br>&nbsp;&nbsp;&nbsp;&nbsp;&nbsp;1. $P(\\phi) = 0$\n",
    "</br>&nbsp;&nbsp;&nbsp;&nbsp;&nbsp;2. $0 \\leq P(\\omega), \\omega \\in \\Omega \\leq 1$\n",
    "</br>&nbsp;&nbsp;&nbsp;&nbsp;&nbsp;3. $P(\\textit{u}) + P(\\textit{d}) = 1$ (in the case of a two-state economy, where $\\textit{u}$ and $\\textit{d} are the only possible states)\n",
    "\n",
    "In the simple model economy with two states only, it is convenient to define $p \\equiv  P(u)$ (the optimistic outlook), and thusly to define $P(d)$ as $1-p$.\n",
    "\n",
    "There are two types of uncertainty the probability measure models, risk and uncertainty. Risk in general refers to a situation in which a full probability distribution over future states of the economy is (assumed to be) known. Ambiguity refers to situations in which such a distribution is not known. Traditionally, finance has relied almost exclusively on model economies under risk, although there is a stream of research that deals with finance problems under ambiguity.\n",
    "\n",
    "Having a fully specified probability measure available, the model economy is typically\n",
    "called an *economy under risk*. A model economy without a fully specified probability\n",
    "measure is often called an *economy under ambiguity*.\n",
    "\n",
    "Probability measures are usually modelled as vectors in-application, like so:"
   ]
  },
  {
   "cell_type": "code",
   "execution_count": 8,
   "id": "d9f36893",
   "metadata": {},
   "outputs": [
    {
     "data": {
      "text/plain": [
       "array([0.4, 0.6])"
      ]
     },
     "execution_count": 8,
     "metadata": {},
     "output_type": "execute_result"
    }
   ],
   "source": [
    "p = 0.4 # 'up' economy probability\n",
    "P = np.array([p, 1 - p]) # event space\n",
    "P"
   ]
  },
  {
   "cell_type": "markdown",
   "id": "343311f5",
   "metadata": {},
   "source": [
    "**Expectation** - Using the probability measure, the *expectation* of an uncertain quantity, like the price of a given asset in one year, can be calculated. This expectation can be interpreted as a *weighted average*. Consider an asset with price process $S = (S_0, S_1)$ The expectation for uncertain price $S_1$ under probability measure $P$ is:\n",
    "\n",
    "$\\large E^P(S_1) \\equiv \\sum_{\\omega \\in \\Omega} P(\\omega) \\cdot S_1^\\omega = p \\cdot S^u_1 + (1 - p) \\cdot S^d_1$\n",
    "\n",
    "where $p = P(\\textit{u})$. If $S_1 = (20, 5)^T$ (reference uncertainty section; these are the possible inflows for the states transposed into a vector), and $p = 0.4$, the expectation is:\n",
    "\n",
    "$\\large E^P(S_1) = 0.4 * 20 + (1 - 0.4)  5 = 11$\n",
    "\n",
    "Alternatively, you can express expectation as the *dot product* of the probability vector and the state space ($\\begin{pmatrix}.\n",
    "           c^u_1 \\\\           \n",
    "            c^d_1          \n",
    "    \\end{pmatrix}$) vector. The dot product can be defined as:\n",
    "\n",
    "$\\large (x, y) = \\sum^2_{i = 1} x_i \\cdot y_i = x_1 \\cdot y_1 + x_2 \\cdot y_2$\n",
    "\n",
    "Therefore,\n",
    "\n",
    "$\\large E^P(S_1) = (P, S_1) = \\begin{pmatrix} \\begin{pmatrix}\n",
    "           p \\\\           \n",
    "            1 - p          \n",
    "    \\end{pmatrix},\n",
    "    \\begin{pmatrix}\n",
    "        S^u_1 \\\\\n",
    "        s^d_1\n",
    "    \\end{pmatrix}\n",
    "    \\end{pmatrix} = (p \\cdot s^u_1) + ((1 - p) \\cdot s^d_1) $\n"
   ]
  },
  {
   "cell_type": "code",
   "execution_count": 9,
   "id": "0549e85c",
   "metadata": {},
   "outputs": [
    {
     "name": "stdout",
     "output_type": "stream",
     "text": [
      "11.0\n"
     ]
    }
   ],
   "source": [
    "# Taking P from previous py cell\n",
    "\n",
    "S0 = 10 # Asset price today\n",
    "S1 = np.array([20, 5]) # vector of up and down price possibilities.\n",
    "\n",
    "expectation = P.dot(S1) # Vector multipliication\n",
    "print(expectation)"
   ]
  },
  {
   "cell_type": "markdown",
   "id": "f3114db9",
   "metadata": {},
   "source": [
    "**Expected Return** - Given a state of uncertainty, return is probabilistic. Roughly represented as $E^P(R) = E^P(S_1) - S_0$. \n",
    "\n",
    "It follows that the *expected rate of return* is then $\\large E^P(r) = \\frac{E^P(S_1) - S_0}{S_1}$. \n",
    "\n",
    "$\\mu \\equiv E^P(r)$ for succinctness."
   ]
  },
  {
   "cell_type": "code",
   "execution_count": 10,
   "id": "d0371135",
   "metadata": {},
   "outputs": [
    {
     "data": {
      "text/plain": [
       "1.0"
      ]
     },
     "execution_count": 10,
     "metadata": {},
     "output_type": "execute_result"
    }
   ],
   "source": [
    "# Expected Return function\n",
    "def ER(p, x0, x1):\n",
    "    return np.dot(p, x1) - x0\n",
    "\n",
    "ER(P, S0, S1)"
   ]
  },
  {
   "cell_type": "code",
   "execution_count": 11,
   "id": "20cbd988",
   "metadata": {},
   "outputs": [
    {
     "data": {
      "text/plain": [
       "0.1"
      ]
     },
     "execution_count": 11,
     "metadata": {},
     "output_type": "execute_result"
    }
   ],
   "source": [
    "# Expected Rate of Return Fn\n",
    "def mu(p, x0, x1):\n",
    "    return ER(p, x0, x1) / x0\n",
    "\n",
    "mu(P, S0, S1)"
   ]
  },
  {
   "cell_type": "markdown",
   "id": "1ff2e38a",
   "metadata": {},
   "source": [
    "**Volatility** - Though risk can be modelled in numerous ways, volatility is the most popular. Volatility is the standard deviation of the rate of returns for a given asset. *Variance* is the square of volatility, and represented thusly:\n",
    "\n",
    "&nbsp;&nbsp;&nbsp;&nbsp;&nbsp;&nbsp;&nbsp;&nbsp;&nbsp;&nbsp;&nbsp;&nbsp;&nbsp;&nbsp;&nbsp;&nbsp; \n",
    "$\\large \\sigma^2(r) = E^P((r - \\mu)^2 = \\begin{pmatrix} \\begin{pmatrix}p \\\\ 1 - p \\end{pmatrix}, \\begin{pmatrix} (r^u - \\mu)^2 \\\\ (r^d - \\mu)^2 \\end{pmatrix} \\end{pmatrix}$\n",
    "\n",
    "&nbsp;&nbsp;&nbsp;&nbsp;&nbsp;&nbsp;&nbsp;&nbsp;&nbsp;&nbsp;&nbsp;&nbsp;&nbsp;&nbsp;&nbsp;&nbsp; \n",
    "Here $\\large r^\\omega \\equiv (S^\\omega_1 - S_0)/ S_0, \\omega \\in \\Omega$, that is, $r^w$ is the expected rate of return for a given state.\n",
    "\n",
    "&nbsp;&nbsp;&nbsp;&nbsp;&nbsp;&nbsp;&nbsp;&nbsp;&nbsp;&nbsp;&nbsp;&nbsp;&nbsp;&nbsp;&nbsp;&nbsp; \n",
    "With that value, we can find volatility via the root; \n",
    "\n",
    "&nbsp;&nbsp;&nbsp;&nbsp;&nbsp;&nbsp;&nbsp;&nbsp;&nbsp;&nbsp;&nbsp;&nbsp;&nbsp;&nbsp;&nbsp;&nbsp; \n",
    "$\\large \\sigma(r) = \\sqrt{\\sigma^2(r)}$"
   ]
  },
  {
   "cell_type": "code",
   "execution_count": 13,
   "id": "f15ef58a",
   "metadata": {},
   "outputs": [
    {
     "name": "stdout",
     "output_type": "stream",
     "text": [
      "The Variance of Probability Space [10, [20  5]], with associated weights for S1 of [0.4 0.6] \n",
      "and an expected rate of return of {mu(P, S0, S1)} is: 0.54 .\n",
      "It has a volatility of: 0.7348469228349535\n"
     ]
    }
   ],
   "source": [
    "# Generates the expected rate of returns vector.\n",
    "def r(x0, x1):\n",
    "    return (x1- x0) / x0\n",
    "\n",
    "# Variance fn\n",
    "def sigma2(P, r, mu):\n",
    "    return np.dot(P, (r - mu) ** 2)\n",
    "\n",
    "print(f\"The Variance of Probability Space [{S0}, {S1}], with associated weights for S1 of {P} \"\n",
    "      \"\\nand an expected rate of return of {mu(P, S0, S1)} is:\",sigma2(P, r(S0, S1), mu(P, S0, S1)), \".\")\n",
    "\n",
    "# Volatility fn\n",
    "def sigma(P, r, mu):\n",
    "    return np.sqrt(np.dot(P, (r - mu) ** 2))\n",
    "\n",
    "print(\"It has a volatility of:\", sigma(P, r(S0, S1), mu(P, S0, S1)))\n",
    "    "
   ]
  },
  {
   "cell_type": "markdown",
   "id": "7e1cf28d",
   "metadata": {},
   "source": [
    "**Contingent Claims** - Contingent claims are financial assets that offer state-contingent payoffs at some point in the future. These claims are based on arbitrary states, or tied to the payoff of other assets. \n",
    "</br>The latter contingencies are *derivative assets and instruments*. Formally contingent claims are a function $C_1: \\Omega \\rightarrow \\mathbb{R}_{\\geq 0}, \\omega \\mapsto C_1(\\omega)$, meaning that a particular event is mapped to a non-negative real number.\n",
    "\n",
    "Consider an economy with a risky stock baring the price process $S = (S_0, (S_1^u, S_1^d)^T)$. One could define a *call option* with a payoff in one year that is dependent on the outcome for the stock. The formula for the option goes $C_1(S_1(\\omega)) = max(S_1(\\omega) - K, 0)$, where $K \\in \\mathbb{R}_{\\geq 0}$ is the *strike price* of the option at $T_0$.\n",
    "\n",
    "In probability theory, a contingent claim is a *random variable* that maps elements of the state space to real numbers. *Derivatives* are such contingent claims that are actually based off other random variables. \n",
    "\n",
    "The code below instantiates a contingent claim model and plots the payout of that claim based on the value of the underlying asset at the time the claim can be exercised."
   ]
  },
  {
   "cell_type": "code",
   "execution_count": 14,
   "id": "6b1f9926",
   "metadata": {},
   "outputs": [
    {
     "data": {
      "text/plain": [
       "Text(0, 0.5, '$C_1$')"
      ]
     },
     "execution_count": 14,
     "metadata": {},
     "output_type": "execute_result"
    },
    {
     "data": {
      "application/vnd.jupyter.widget-view+json": {
       "model_id": "d2109dcf1be346c1b94816ef64e722c9",
       "version_major": 2,
       "version_minor": 0
      },
      "image/png": "[encoded data removed]",
      "text/html": [
       "\n",
       "            <div style=\"display: inline-block;\">\n",
       "                <div class=\"jupyter-widgets widget-label\" style=\"text-align: center;\">\n",
       "                    Figure\n",
       "                </div>\n",
       "                <img src='data:image/png;base64,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' width=1000.0/>\n",
       "            </div>\n",
       "        "
      ],
      "text/plain": [
       "Canvas(toolbar=Toolbar(toolitems=[('Home', 'Reset original view', 'home', 'home'), ('Back', 'Back to previous …"
      ]
     },
     "metadata": {},
     "output_type": "display_data"
    }
   ],
   "source": [
    "S1 = np.arange(20) # Possible values of the underlying asset\n",
    "\n",
    "K = 10 # Option strike price\n",
    "\n",
    "C1 = np.maximum(S1 - K, 0) # Calculating vectorized payout\n",
    "\n",
    "%matplotlib widget\n",
    "\n",
    "from pylab import mpl, plt # Pylab is a convenience module that bulk imports matplotlib and pyplot\n",
    "plt.style.use(\"seaborn\")\n",
    "mpl.rcParams[\"font.family\"] = \"serif\"\n",
    "mpl.rcParams[\"savefig.dpi\"] = 300  # Sets the default plot size\n",
    "\n",
    "plt.figure(figsize=(10, 6))\n",
    "plt.plot(S1, C1, lw=3.0, label=\"$C_1 = \\max(S_1 - K, 0)$\") # Plots underlying asset price on X, option payoff on Y.\n",
    "plt.legend(loc=0) # places the legend with label defined above\n",
    "plt.xlabel('$S_1$')\n",
    "plt.ylabel('$C_1$')\n"
   ]
  },
  {
   "cell_type": "markdown",
   "id": "deadd40f",
   "metadata": {},
   "source": [
    "**Replication** - [Replication](https://en.wikipedia.org/wiki/Replicating_portfolio) is an attribute of a contingent asset such that its payouts mirror--or are thusly redundant to--their underlying asset or a set of assets. Mathematically, the contingent claim is redundant if it is *linearly dependent* to other assets. \n",
    "\n",
    "The payoff to a call option is said to be redundant if a solution exists to the following problem:\n",
    "\n",
    "$b \\cdot \\begin{pmatrix} B_1 \\\\ B_1 \\end{pmatrix} + s \\cdot \\begin{pmatrix} S_1^u \\\\ S_1^d \\end{pmatrix} = \\begin{pmatrix} C_1^u \\\\ C_1^d \\end{pmatrix}$, where $b, s \\in \\mathbb{R}$ and $B_1$ is the price of a bond at the time of payout.\n",
    "\n",
    "This problem can be represented as a *system of linear equations*:\n",
    "\n",
    "$\\begin{cases} b \\cdot B_1 + s \\cdot S_1^u = C_1^u \\\\ b \\cdot B_1 + s \\cdot S_1^d = C_1^d \\end{cases}$\n",
    "\n",
    "The solutions are given by:\n",
    "\n",
    "$\\large s^* = \\frac{C_1^u - C_1^d}{S_1^u - S_1^d}$\n",
    "\n",
    "$\\large b^* = \\frac{1}{B_1} \\times \\frac{(C_1^d \\times S_1^u) - (C_1^u \\times S_1^d)}{S_1^u - S_1^d}$\n",
    "\n",
    "Assume that a risk-less bond $B = (10,11)$ and a risky stock $S = (10, (20, 5)^T)$ exist on the market, and that contingent asset has a strike price $K = 15$, such that its payout $C_1 = (5,0)^T$. Plugging this data into the equations above, then, we get:\n",
    "\n",
    "$\\large s^* = \\frac{5 - 0}{20 - 5} = \\frac{1}{3}$\n",
    "\n",
    "$\\large b^* = \\frac{1}{11} \\times \\frac{(0 \\times 20) - (5 \\times 5)}{20 - 5} = \\frac{-25}{165} = \\frac{-5}{33}$\n",
    "\n",
    "Thusly, selling $\\frac{5}{33}$ of the bond and buying $\\frac{1}{3}$ of the stock perfectly replicates the behavior of the call option, and the option is linearly dependent on the payoff vectors of the two underlying assets. \n",
    "\n",
    "It's worth noting that technically *short selling* implies borrowing $n$ units of the\n",
    "financial asset today from another agent and at once selling the units in the mar‐\n",
    "ket. In one year, the borrowing agent buys $n$ of units of the financial\n",
    "asset back in the market at the then-current price and transfers them back to the\n",
    "other agent.\n",
    "\n",
    "The replication problem can also be represented using matrices. Consider a square matrix $\\mathcal{M}$ with four elements each representing the payoff vectors for the bond and stock across a state space:\n",
    "\n",
    "$\\mathcal{M} = \\begin{pmatrix} B_1 & S^u_1 \\\\ B_1 & S^d_1 \\end{pmatrix} $\n",
    "\n",
    "The replication problem can thus be represented in *Matrix Form* as $\\mathcal{M} \\cdot \\phi = C_1$, where $\\phi \\in \\mathbb{R}^2$ is the vector containing the bond and stock portfolio positions for replication. "
   ]
  },
  {
   "cell_type": "code",
   "execution_count": null,
   "id": "7d3403fe",
   "metadata": {},
   "outputs": [],
   "source": []
  },
  {
   "cell_type": "markdown",
   "id": "cb2821ad",
   "metadata": {},
   "source": [
    "**Arbitrage Pricing**"
   ]
  },
  {
   "cell_type": "code",
   "execution_count": null,
   "id": "6bd1c8f1",
   "metadata": {},
   "outputs": [],
   "source": []
  },
  {
   "cell_type": "markdown",
   "id": "302aff43",
   "metadata": {},
   "source": [
    "**Market Completeness**\n",
    "\n",
    "**Arrow-Debreu Securities**\n",
    "\n",
    "**Martingale Pricing**\n",
    "\n",
    "**First Fundamental Theorem of Asset Pricing**\n",
    "\n",
    "**Pricing By Expectation** "
   ]
  },
  {
   "cell_type": "markdown",
   "id": "d7961ab9",
   "metadata": {},
   "source": [
    "**Second Fundamental Theorem of Asset Pricing**"
   ]
  },
  {
   "cell_type": "markdown",
   "id": "502b7382",
   "metadata": {},
   "source": [
    "**Means-Variance Portfolios**"
   ]
  }
 ],
 "metadata": {
  "kernelspec": {
   "display_name": "Python 3 (ipykernel)",
   "language": "python",
   "name": "python3"
  },
  "language_info": {
   "codemirror_mode": {
    "name": "ipython",
    "version": 3
   },
   "file_extension": ".py",
   "mimetype": "text/x-python",
   "name": "python",
   "nbconvert_exporter": "python",
   "pygments_lexer": "ipython3",
   "version": "3.9.6"
  },
  "vscode": {
   "interpreter": {
    "hash": "ba4c651cdc5ec17c511bce19f294202fdc45305f9de1f927c569f32faa173ead"
   }
  }
 },
 "nbformat": 4,
 "nbformat_minor": 5
}
