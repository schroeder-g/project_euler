{
 "cells": [
  {
   "cell_type": "markdown",
   "id": "26f60573-8384-4a09-83fb-a3462f55174e",
   "metadata": {
    "tags": []
   },
   "source": [
    "The [Black-Scholes-Merton](https://www.investopedia.com/terms/b/blackscholes.asp#:~:text=The%20Black%2DScholes%20model%2C%20aka,free%20rate%2C%20and%20the%20volatility.) market model is a stochastic differential equation used to price options contracts. In this model, the underlying risk of the option follows [geometric brownian motion](https://en.wikipedia.org/wiki/Geometric_Brownian_motion).\n",
    "\n",
    "The equation, given below, estimates the strike price at a given time via the following formula:\n",
    " - S0 = Initial or current stock index level\n",
    " - T = Time-to-maturity \n",
    " - r = Constant, riskless [short rate](https://en.wikipedia.org/wiki/Short-rate_model) \n",
    " - σ = volatility constant\n",
    " - z = a normally distributed random variable\n",
    " \n",
    " where `exp(n)` represents `e ^ n` (`n` being whatever is in the parens)"
   ]
  },
  {
   "cell_type": "markdown",
   "id": "37fd8e3c-2ec4-4d9d-9a10-9981866d51c0",
   "metadata": {
    "tags": []
   },
   "source": [
    "<h3>$ S_T = S_0 \\exp((r - 1/2 σ ^ 2)T + σ \\sqrt{T}z)$</h3>"
   ]
  },
  {
   "cell_type": "markdown",
   "id": "80952633-77c4-4ab0-a783-fac963c88310",
   "metadata": {},
   "source": [
    "We can approximate the strike price value by running the above equation through a [Monte Carlo simulation](https://en.wikipedia.org/wiki/Monte_Carlo_method), holding all values constant except the random variable z. \n",
    "\n",
    "The following is an algorithmic description of the Monte Carlo valuation procedure:\n",
    "1. Draw `I` (pseudo)random numbers `z(i), i ∈ {1, 2, …, I}`, from the standard normal distribution.\n",
    "2. Calculate all resulting index levels at maturity `ST (i)` for given `z(i)` and Equation 1-1.\n",
    "3. Calculate all inner values of the option at maturity as `hT(i) = max(ST(i) – K,0)`, \n",
    "     - where `K` represents the strike price of call options in a given market.\n",
    "4. Estimate the option present value via the Monte Carlo estimator, represented below."
   ]
  },
  {
   "cell_type": "markdown",
   "id": "c1e51322-af50-414a-b45b-87744e59a2fa",
   "metadata": {},
   "source": [
    "<img src=\"../assets/monte_carlo_formula.png\" alt=\"Drawing\" style=\"width: 200px;\"/>\n"
   ]
  },
  {
   "cell_type": "markdown",
   "id": "86d00f14-09a9-4dae-b20c-9c573eb25cb3",
   "metadata": {},
   "source": [
    "We can perform these operations with Python."
   ]
  },
  {
   "cell_type": "code",
   "execution_count": 15,
   "id": "fdffd727-17e1-4c56-86a2-5c0a9a65e35a",
   "metadata": {},
   "outputs": [
    {
     "name": "stdout",
     "output_type": "stream",
     "text": [
      "Value of the European Call Option: 8.0069\n"
     ]
    }
   ],
   "source": [
    "#\n",
    "# Monte Carlo valuation of European call option\n",
    "# in Black-Scholes-Merton model\n",
    "import numpy as np\n",
    "\n",
    "# constants\n",
    "S0 = 100. # Initial index level\n",
    "K = 105. # Strike price of the option\n",
    "T = 1.0 # Time until option matures\n",
    "r = 0.05 # riskless short rate\n",
    "sigma = 0.2 # volatility\n",
    "\n",
    "I = 1000000 # num simulations\n",
    "\n",
    "# Valuation algorithm\n",
    "z = np.random.standard_normal(I) # Generates I pseudorandom nums\n",
    "# Solve Black-Scholes for given variables (index value at maturity T)\n",
    "ST = S0 * np.exp((r - 0.5 * sigma ** 2) * T + sigma * np.sqrt(T) * z)\n",
    "hT = np.maximum(ST - K, 0) # Inner values at maturity\n",
    "C0 = np.exp(-r * T) * np.sum(hT) / I # monte carlo simulator\n",
    "\n",
    "print (f\"Value of the European Call Option: {round(C0, 4)}\") "
   ]
  }
 ],
 "metadata": {
  "kernelspec": {
   "display_name": "Python 3 (ipykernel)",
   "language": "python",
   "name": "python3"
  },
  "language_info": {
   "codemirror_mode": {
    "name": "ipython",
    "version": 3
   },
   "file_extension": ".py",
   "mimetype": "text/x-python",
   "name": "python",
   "nbconvert_exporter": "python",
   "pygments_lexer": "ipython3",
   "version": "3.9.6"
  }
 },
 "nbformat": 4,
 "nbformat_minor": 5
}
