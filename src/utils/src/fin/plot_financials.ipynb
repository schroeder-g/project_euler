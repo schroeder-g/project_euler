{
 "cells": [
  {
   "cell_type": "code",
   "execution_count": 54,
   "id": "648ff050-99a6-47b7-b893-516532cc628c",
   "metadata": {},
   "outputs": [],
   "source": [
    "import numpy as np\n",
    "import pandas as pd\n",
    "import pandas_datareader.data as web\n",
    "import datetime as dt"
   ]
  },
  {
   "cell_type": "markdown",
   "id": "072181a8-d606-414e-878b-1259263eb4c1",
   "metadata": {
    "tags": []
   },
   "source": [
    "<h3>Fetch 6 months of data from Yahoo</h3>"
   ]
  },
  {
   "cell_type": "code",
   "execution_count": 59,
   "id": "89c071a0-eb0e-471b-91e7-b0242e7eac67",
   "metadata": {},
   "outputs": [
    {
     "data": {
      "text/html": [
       "<div>\n",
       "<style scoped>\n",
       "    .dataframe tbody tr th:only-of-type {\n",
       "        vertical-align: middle;\n",
       "    }\n",
       "\n",
       "    .dataframe tbody tr th {\n",
       "        vertical-align: top;\n",
       "    }\n",
       "\n",
       "    .dataframe thead th {\n",
       "        text-align: right;\n",
       "    }\n",
       "</style>\n",
       "<table border=\"1\" class=\"dataframe\">\n",
       "  <thead>\n",
       "    <tr style=\"text-align: right;\">\n",
       "      <th></th>\n",
       "      <th>High</th>\n",
       "      <th>Low</th>\n",
       "      <th>Open</th>\n",
       "      <th>Close</th>\n",
       "      <th>Volume</th>\n",
       "      <th>Adj Close</th>\n",
       "    </tr>\n",
       "    <tr>\n",
       "      <th>Date</th>\n",
       "      <th></th>\n",
       "      <th></th>\n",
       "      <th></th>\n",
       "      <th></th>\n",
       "      <th></th>\n",
       "      <th></th>\n",
       "    </tr>\n",
       "  </thead>\n",
       "  <tbody>\n",
       "    <tr>\n",
       "      <th>2022-08-29</th>\n",
       "      <td>111.959999</td>\n",
       "      <td>109.809998</td>\n",
       "      <td>110.779999</td>\n",
       "      <td>110.339996</td>\n",
       "      <td>20386100.0</td>\n",
       "      <td>110.339996</td>\n",
       "    </tr>\n",
       "    <tr>\n",
       "      <th>2022-08-30</th>\n",
       "      <td>111.370003</td>\n",
       "      <td>108.800003</td>\n",
       "      <td>111.029999</td>\n",
       "      <td>109.910004</td>\n",
       "      <td>20548200.0</td>\n",
       "      <td>109.910004</td>\n",
       "    </tr>\n",
       "    <tr>\n",
       "      <th>2022-08-31</th>\n",
       "      <td>111.769997</td>\n",
       "      <td>109.050003</td>\n",
       "      <td>111.629997</td>\n",
       "      <td>109.150002</td>\n",
       "      <td>25898000.0</td>\n",
       "      <td>109.150002</td>\n",
       "    </tr>\n",
       "    <tr>\n",
       "      <th>2022-09-01</th>\n",
       "      <td>111.220001</td>\n",
       "      <td>108.190002</td>\n",
       "      <td>109.199997</td>\n",
       "      <td>110.550003</td>\n",
       "      <td>22784400.0</td>\n",
       "      <td>110.550003</td>\n",
       "    </tr>\n",
       "    <tr>\n",
       "      <th>2022-09-02</th>\n",
       "      <td>111.675003</td>\n",
       "      <td>108.134003</td>\n",
       "      <td>111.339996</td>\n",
       "      <td>108.680000</td>\n",
       "      <td>20594419.0</td>\n",
       "      <td>108.680000</td>\n",
       "    </tr>\n",
       "  </tbody>\n",
       "</table>\n",
       "</div>"
      ],
      "text/plain": [
       "                  High         Low        Open       Close      Volume   Adj Close\n",
       "Date                                                                              \n",
       "2022-08-29  111.959999  109.809998  110.779999  110.339996  20386100.0  110.339996\n",
       "2022-08-30  111.370003  108.800003  111.029999  109.910004  20548200.0  109.910004\n",
       "2022-08-31  111.769997  109.050003  111.629997  109.150002  25898000.0  109.150002\n",
       "2022-09-01  111.220001  108.190002  109.199997  110.550003  22784400.0  110.550003\n",
       "2022-09-02  111.675003  108.134003  111.339996  108.680000  20594419.0  108.680000"
      ]
     },
     "execution_count": 59,
     "metadata": {},
     "output_type": "execute_result"
    }
   ],
   "source": [
    "pd.set_option('display.width', 10000) # Prevent rollover to a new line\n",
    "pd.set_option('display.max_columns', 0) # Show all columns\n",
    "\n",
    "curr_date = dt.datetime.now()\n",
    "goog = web.DataReader(\n",
    "        'GOOG', \n",
    "        data_source='yahoo', \n",
    "        start=curr_date.replace(month=curr_date.month - 6),\n",
    "        end=dt.datetime.strftime(curr_date, \"%m/%d/%Y\")\n",
    ")\n",
    "goog.tail()"
   ]
  },
  {
   "cell_type": "markdown",
   "id": "0327989a-d67d-4327-8e52-c911ecf71c6e",
   "metadata": {},
   "source": [
    "Now calculate volatility via standard deviation:"
   ]
  },
  {
   "cell_type": "code",
   "execution_count": 61,
   "id": "0d235b12-af08-4ea0-b867-cc6294babb32",
   "metadata": {},
   "outputs": [],
   "source": [
    "goog[\"log_Return\"] = np.log(goog[\"Close\"] / goog[\"Close\"].shift(1))\n",
    "goog[\"Volatility\"] = goog[\"log_Return\"].rolling(15).std() * np.sqrt(15)"
   ]
  },
  {
   "cell_type": "markdown",
   "id": "7f5d5c40-b78f-4f37-b73e-5522a109bb29",
   "metadata": {
    "jp-MarkdownHeadingCollapsed": true,
    "tags": []
   },
   "source": [
    "<h3>Last Month of Google's Financials:</h3>"
   ]
  },
  {
   "cell_type": "code",
   "execution_count": 52,
   "id": "b613d1e1-c363-45be-bac5-99983eda40e7",
   "metadata": {
    "tags": [
     "hide-input"
    ]
   },
   "outputs": [
    {
     "name": "stdout",
     "output_type": "stream",
     "text": [
      "                  High         Low        Open       Close      Volume   Adj Close  log_Return  volatility\n",
      "Date                                                                                                      \n",
      "2022-03-03  136.713806  133.431000  135.978500  134.307999  19780000.0  134.307999         NaN         NaN\n",
      "2022-03-04  134.199005  130.408493  133.382507  132.121994  24446000.0  132.121994   -0.016410         NaN\n",
      "2022-03-07  131.904007  126.410004  131.904007  126.464500  39178000.0  126.464500   -0.043764         NaN\n",
      "2022-03-08  131.246506  125.860748  126.250504  127.278503  35250000.0  127.278503    0.006416         NaN\n",
      "2022-03-09  134.198502  130.087997  131.399994  133.865997  32258000.0  133.865997    0.050462         NaN\n",
      "...                ...         ...         ...         ...         ...         ...         ...         ...\n",
      "2022-08-29  111.959999  109.809998  110.779999  110.339996  20386100.0  110.339996   -0.008663    0.083156\n",
      "2022-08-30  111.370003  108.800003  111.029999  109.910004  20548200.0  109.910004   -0.003905    0.083153\n",
      "2022-08-31  111.769997  109.050003  111.629997  109.150002  25898000.0  109.150002   -0.006939    0.076275\n",
      "2022-09-01  111.220001  108.190002  109.199997  110.550003  22784400.0  110.550003    0.012745    0.078705\n",
      "2022-09-02  111.675003  108.134003  111.339996  108.680000  20594419.0  108.680000   -0.017060    0.073083\n",
      "\n",
      "[128 rows x 8 columns]\n"
     ]
    }
   ],
   "source": [
    "print(goog)"
   ]
  },
  {
   "cell_type": "markdown",
   "id": "b601d64a-406c-44a0-87c0-90ccb05dfb86",
   "metadata": {
    "tags": []
   },
   "source": [
    "<h3>Plot the results</h3>"
   ]
  },
  {
   "cell_type": "code",
   "execution_count": 62,
   "id": "4e480be4-4c51-431b-bc87-5eb7b0b48bf3",
   "metadata": {},
   "outputs": [
    {
     "data": {
      "text/plain": [
       "array([<AxesSubplot:xlabel='Date'>, <AxesSubplot:xlabel='Date'>],\n",
       "      dtype=object)"
      ]
     },
     "execution_count": 62,
     "metadata": {},
     "output_type": "execute_result"
    },
    {
     "data": {
      "image/png": "[encoded data removed]",
      "text/plain": [
       "<Figure size 576x432 with 2 Axes>"
      ]
     },
     "metadata": {
      "needs_background": "light"
     },
     "output_type": "display_data"
    }
   ],
   "source": [
    "%matplotlib inline\n",
    "\n",
    "goog[['Close', 'Volatility']].plot(subplots=True, \n",
    "                                   color='blue', \n",
    "                                   figsize=(8,6))"
   ]
  },
  {
   "cell_type": "code",
   "execution_count": null,
   "id": "04d6f6aa-44c3-4199-b52a-ddd878cc07ff",
   "metadata": {},
   "outputs": [],
   "source": []
  }
 ],
 "metadata": {
  "kernelspec": {
   "display_name": "Python 3 (ipykernel)",
   "language": "python",
   "name": "python3"
  },
  "language_info": {
   "codemirror_mode": {
    "name": "ipython",
    "version": 3
   },
   "file_extension": ".py",
   "mimetype": "text/x-python",
   "name": "python",
   "nbconvert_exporter": "python",
   "pygments_lexer": "ipython3",
   "version": "3.9.6"
  }
 },
 "nbformat": 4,
 "nbformat_minor": 5
}
